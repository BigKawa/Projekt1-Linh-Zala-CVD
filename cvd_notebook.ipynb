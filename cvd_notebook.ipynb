{
 "cells": [
  {
   "cell_type": "markdown",
   "metadata": {},
   "source": [
    "1. Run \"pip install kaggle\" \n",
    "\n",
    "2. Move \"kaggle.json\" to following Path /Users/linh/.kaggle"
   ]
  },
  {
   "cell_type": "markdown",
   "metadata": {},
   "source": [
    "Importing relevent libraries"
   ]
  },
  {
   "cell_type": "code",
   "execution_count": 8,
   "metadata": {},
   "outputs": [
    {
     "name": "stdout",
     "output_type": "stream",
     "text": [
      "Intel MKL WARNING: Support of Intel(R) Streaming SIMD Extensions 4.2 (Intel(R) SSE4.2) enabled only processors has been deprecated. Intel oneAPI Math Kernel Library 2025.0 will require Intel(R) Advanced Vector Extensions (Intel(R) AVX) instructions.\n",
      "Intel MKL WARNING: Support of Intel(R) Streaming SIMD Extensions 4.2 (Intel(R) SSE4.2) enabled only processors has been deprecated. Intel oneAPI Math Kernel Library 2025.0 will require Intel(R) Advanced Vector Extensions (Intel(R) AVX) instructions.\n"
     ]
    }
   ],
   "source": [
    "import pandas as pd \n",
    "from cleaning import *  # Import all functions from cleaning\n",
    "import kaggle"
   ]
  },
  {
   "cell_type": "code",
   "execution_count": null,
   "metadata": {},
   "outputs": [],
   "source": [
    "# Initiliaze API\n",
    "\n",
    "api = KaggleApi()\n",
    "api.authenticate()\n",
    "api.model_list_cli()\n",
    "\n",
    "Next Page Token = [...]"
   ]
  },
  {
   "cell_type": "code",
<<<<<<< HEAD
   "execution_count": 7,
   "metadata": {},
   "outputs": [],
   "source": [
    "india_df = pd.read_csv(\"Data/CVD_india_data_raw.csv\")  # Saving CSV into DF"
   ]
  },
  {
   "cell_type": "code",
   "execution_count": 15,
=======
   "execution_count": null,
>>>>>>> 14feea946bbc035295983236bc1297aebf5d9225
   "metadata": {},
   "outputs": [
    {
     "name": "stdout",
     "output_type": "stream",
     "text": [
      "\n",
      "MISSINGS:\n",
      "col 'patientid': no missings\n",
      "col 'age': no missings\n",
      "col 'gender': no missings\n",
      "col 'chestpain': no missings\n",
      "col 'restingBP': no missings\n",
      "col 'serumcholestrol': no missings\n",
      "col 'fastingbloodsugar': no missings\n",
      "col 'restingrelectro': no missings\n",
      "col 'maxheartrate': no missings\n",
      "col 'exerciseangia': no missings\n",
      "col 'oldpeak': no missings\n",
      "col 'slope': no missings\n",
      "col 'noofmajorvessels': no missings\n",
      "col 'target': no missings\n",
      "\n",
      "UNIQUE VALUESs:\n",
      "col 'patientid': 1000 unique vals\n",
      "col 'age': 61 unique vals\n",
      "col 'gender': 2 unique vals\n",
      "col 'gender': unique vals: [1 0]\n",
      "col 'chestpain': 4 unique vals\n",
      "col 'chestpain': unique vals: [2 0 1 3]\n",
      "col 'restingBP': 95 unique vals\n",
      "col 'serumcholestrol': 344 unique vals\n",
      "col 'fastingbloodsugar': 2 unique vals\n",
      "col 'fastingbloodsugar': unique vals: [0 1]\n",
      "col 'restingrelectro': 3 unique vals\n",
      "col 'restingrelectro': unique vals: [1 0 2]\n",
      "col 'maxheartrate': 129 unique vals\n",
      "col 'exerciseangia': 2 unique vals\n",
      "col 'exerciseangia': unique vals: [0 1]\n",
      "col 'oldpeak': 63 unique vals\n",
      "col 'slope': 4 unique vals\n",
      "col 'slope': unique vals: [3 1 2 0]\n",
      "col 'noofmajorvessels': 4 unique vals\n",
      "col 'noofmajorvessels': unique vals: [3 1 0 2]\n",
      "col 'target': 2 unique vals\n",
      "col 'target': unique vals: [1 0]\n"
     ]
    }
   ],
   "source": [
    "# once done and tested add to functions.py thingy\n",
    "def check_missings(df):\n",
    "    missing_values = df.isna().sum()\n",
    "    print(\"\\nMISSINGS:\")\n",
    "    for col, count in missing_values.items():\n",
    "        if count > 0:\n",
    "            print(f\"col '{col}': {count} missings\")\n",
    "        else:\n",
    "            print(f\"col '{col}': no missings\")\n",
    "\n",
    "def check_unique(df):\n",
    "    print(\"\\nUNIQUE VALUESs:\")\n",
    "    unique_counts = {}\n",
    "    for col in df.columns:\n",
    "        unique_values = df[col].unique()\n",
    "        unique_counts[col] = unique_values\n",
    "        print(f\"col '{col}': {len(unique_values)} unique vals\")\n",
    "        if len(unique_values) <= 10:\n",
    "            print(f\"col '{col}' unique vals: {unique_values}\")\n",
    "\n",
    "check_missings(india_df)\n",
    "check_unique(india_df)\n"
   ]
  },
  {
   "cell_type": "code",
   "execution_count": 5,
   "metadata": {},
   "outputs": [],
   "source": [
    "# Saving CSV into DF\n",
    "india_df = pd.read_csv(\"./Data/Cardiovascular_Disease_Dataset.csv\")\n",
    "india_df"
   ]
  },
  {
   "cell_type": "code",
   "execution_count": 10,
   "metadata": {},
   "outputs": [
    {
     "data": {
      "text/plain": [
       "'https://www.kaggle.com/datasets/alexteboul/heart-disease-health-indicators-dataset'"
      ]
     },
     "execution_count": 10,
     "metadata": {},
     "output_type": "execute_result"
    }
   ],
   "source": [
    "# Working through API and Call new Data per api \n",
    "\"https://www.kaggle.com/datasets/alexteboul/heart-disease-health-indicators-dataset\""
   ]
  },
  {
   "cell_type": "markdown",
   "metadata": {},
   "source": [
    "Clean Data"
   ]
  },
  {
   "cell_type": "code",
   "execution_count": 11,
   "metadata": {},
   "outputs": [],
   "source": [
    "# Checking and konsolodate the columns"
   ]
  },
  {
   "cell_type": "code",
   "execution_count": 13,
   "metadata": {},
   "outputs": [],
   "source": [
    "# Concantenate the DataFrames"
   ]
  },
  {
   "cell_type": "code",
   "execution_count": null,
   "metadata": {},
   "outputs": [],
   "source": []
  },
  {
   "cell_type": "markdown",
   "metadata": {},
   "source": [
    "Preparing the Data Analysis"
   ]
  },
  {
   "cell_type": "code",
   "execution_count": 14,
   "metadata": {},
   "outputs": [],
   "source": [
    "# Defining Hypothesis and relevant Data"
   ]
  },
  {
   "cell_type": "code",
   "execution_count": null,
   "metadata": {},
   "outputs": [],
   "source": []
  },
  {
   "cell_type": "markdown",
   "metadata": {},
   "source": [
    "Visualizing the Data"
   ]
  },
  {
   "cell_type": "code",
   "execution_count": 15,
   "metadata": {},
   "outputs": [],
   "source": [
    "# Importing relevant Liberaries"
   ]
  },
  {
   "cell_type": "code",
   "execution_count": 16,
   "metadata": {},
   "outputs": [],
   "source": [
    "# Defining relevant Plots"
   ]
  },
  {
   "cell_type": "code",
   "execution_count": null,
   "metadata": {},
   "outputs": [],
   "source": []
  }
 ],
 "metadata": {
  "kernelspec": {
   "display_name": "Python 3 (ipykernel)",
   "language": "python",
   "name": "python3"
  },
  "language_info": {
   "codemirror_mode": {
    "name": "ipython",
    "version": 3
   },
   "file_extension": ".py",
   "mimetype": "text/x-python",
   "name": "python",
   "nbconvert_exporter": "python",
   "pygments_lexer": "ipython3",
   "version": "3.9.19"
  }
 },
 "nbformat": 4,
 "nbformat_minor": 4
}
