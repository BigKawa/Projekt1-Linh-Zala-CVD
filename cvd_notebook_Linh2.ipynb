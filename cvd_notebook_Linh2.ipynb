{
 "cells": [
  {
   "cell_type": "markdown",
   "metadata": {},
   "source": [
    "1. Run \"pip install kaggle\" \n",
    "\n",
    "2. Move \"kaggle.json\" to following Path /Users/linh/.kaggle"
   ]
  },
  {
   "cell_type": "markdown",
   "metadata": {},
   "source": [
    "Importing relevent libraries"
   ]
  },
  {
   "cell_type": "code",
   "execution_count": 1,
   "metadata": {},
   "outputs": [],
   "source": [
    "import pandas as pd \n",
    "from cleaning import *  # Import all functions from cleaning\n",
    "import zipfile\n",
    "import kaggle\n",
    "from kaggle.api.kaggle_api_extended import KaggleApi  # Import Kaggle Api\n",
    "import requests\n",
    "from bs4 import BeautifulSoup\n",
    "import seaborn as sns\n",
    "import matplotlib.pyplot as plt"
   ]
  },
  {
   "cell_type": "code",
   "execution_count": null,
   "metadata": {},
   "outputs": [],
   "source": [
    "# Initiliaze API\n",
    "api = KaggleApi()\n",
    "api.authenticate()\n",
    "api.model_list_cli()\n",
    "\n",
    "# Donwload Dataset via API unzipped\n",
    "api.dataset_download_files(dataset=\"alexteboul/heart-disease-health-indicators-dataset\", unzip=True)\n",
    "\n",
    "# Saving DataSets into DF\n",
    "usa_df = pd.read_csv(\"heart_disease_health_indicators_BRFSS2015.csv\")\n",
    "india_df = pd.read_csv(\"./Data/CVD_india_data_raw.csv\")"
   ]
  },
  {
   "cell_type": "markdown",
   "metadata": {},
   "source": [
    "Scrape norm tables from Wikipedia"
   ]
  },
  {
   "cell_type": "code",
   "execution_count": 3,
   "metadata": {},
   "outputs": [
    {
     "data": {
      "text/plain": [
       "120"
      ]
     },
     "execution_count": 3,
     "metadata": {},
     "output_type": "execute_result"
    }
   ],
   "source": [
    "# blood pressure\n",
    "url = \"https://en.wikipedia.org/wiki/Blood_pressure\"\n",
    "response = requests.get(url)\n",
    "soup = BeautifulSoup(response.content, 'html.parser')\n",
    "\n",
    "table = soup.find(\"table\", class_=\"wikitable\")\n",
    "\n",
    "categories = []\n",
    "office_data = []\n",
    "relevant_data = False\n",
    "\n",
    "for row in table.find_all('tr'):\n",
    "    header_cells = row.find_all('th')\n",
    "    if header_cells and \"European Society of Cardiology\" in header_cells[0].get_text():\n",
    "        relevant_data = True\n",
    "        continue\n",
    "    if header_cells and \"European Society of Hypertension\" in header_cells[0].get_text():\n",
    "        relevant_data = False\n",
    "        break\n",
    "    if relevant_data:\n",
    "        data_cells = row.find_all('td')\n",
    "        if len(data_cells) > 1:  # Ensures we have enough columns\n",
    "            categories.append(data_cells[0].get_text(strip=True))\n",
    "            office_data.append(data_cells[1].get_text(strip=True))\n",
    "\n",
    "bp_df = pd.DataFrame({'Category': categories, 'Office': office_data})\n",
    "bp_thresh = int(bp_df[bp_df['Category'] == 'Non-elevated']['Office'].values[0].split(\"<\")[1])\n",
    "bp_thresh"
   ]
  },
  {
   "cell_type": "code",
   "execution_count": 4,
   "metadata": {},
   "outputs": [
    {
     "data": {
      "text/plain": [
       "200"
      ]
     },
     "execution_count": 4,
     "metadata": {},
     "output_type": "execute_result"
    }
   ],
   "source": [
    "# cholesterol\n",
    "url = \"https://en.wikipedia.org/wiki/Cholesterol\"\n",
    "response = requests.get(url)\n",
    "soup = BeautifulSoup(response.content, 'html.parser')\n",
    "\n",
    "table = soup.find(\"table\", class_=\"wikitable\")\n",
    "rows = table.find(\"tbody\").find_all('tr')\n",
    "\n",
    "chol_data = []\n",
    "selected_rows = [1, 2, 3, 4]\n",
    "\n",
    "for i in selected_rows:\n",
    "    if i == 1:\n",
    "        cell = rows[i].find('th').get_text(strip=True)\n",
    "    else:\n",
    "        cell = rows[i].find('td').get_text(strip=True)\n",
    "    chol_data.append(cell)\n",
    "\n",
    "chol_data\n",
    "chol_thresh = int(chol_data[1].strip(\"< \"))\n",
    "chol_thresh"
   ]
  },
  {
   "cell_type": "markdown",
   "metadata": {},
   "source": [
    "Creating new binary columns for blood pressure and cholesterol in India data which match the US data"
   ]
  },
  {
   "cell_type": "code",
   "execution_count": 6,
   "metadata": {},
   "outputs": [
    {
     "name": "stdout",
     "output_type": "stream",
     "text": [
      "[1 0]\n",
      "[0 1]\n"
     ]
    }
   ],
   "source": [
    "india_df[\"HighBP\"] = india_df[\"restingBP\"].apply(lambda x: 1 if x >= bp_thresh else 0)\n",
    "india_df[\"HighChol\"] = india_df[\"serumcholestrol\"].apply(lambda x: 1 if x >= chol_thresh else 0)"
   ]
  },
  {
   "cell_type": "markdown",
   "metadata": {},
   "source": [
    "Clean and Shaping Data"
   ]
  },
  {
   "cell_type": "code",
   "execution_count": null,
   "metadata": {},
   "outputs": [],
   "source": [
    "# apply functions for cleaning check\n",
    "check_nan(india_df)\n",
    "check_unique(india_df)\n",
    "check_nan(usa_df)\n",
    "check_unique(usa_df)"
   ]
  },
  {
   "cell_type": "code",
   "execution_count": 7,
   "metadata": {},
   "outputs": [],
   "source": [
    "# Synchronize matching columns\n",
    "usa_df.columns = usa_df.columns.str.lower()\n",
    "india_df.columns = india_df.columns.str.lower()"
   ]
  },
  {
   "cell_type": "code",
   "execution_count": 8,
   "metadata": {},
   "outputs": [],
   "source": [
    "# Aligning Dtypes\n",
    "usa_df = usa_df.apply(lambda x:x.astype(int))\n",
    "india_df = india_df.apply(lambda x:x.astype(int, errors= \"ignore\"))"
   ]
  },
  {
   "cell_type": "code",
   "execution_count": 9,
   "metadata": {},
   "outputs": [],
   "source": [
    "# Checking and konsolodate the columns\n",
    "# Renaming India columns\n",
    "india_df = india_df.rename(columns={\"target\":\"cvd\"})\n",
    "\n",
    "# Renaming usa columns\n",
    "usa_df = usa_df.rename(columns={\"sex\":\"gender\"})\n",
    "usa_df = usa_df.rename(columns={\"heartdiseaseorattack\":\"cvd\"})"
   ]
  },
  {
   "cell_type": "code",
   "execution_count": 10,
   "metadata": {},
   "outputs": [],
   "source": [
    "# assgning gender \n",
    "# sacrificing performance for readibility in this case int to object\n",
    "gender = {\n",
    "    1:\"m\",\n",
    "    0:\"f\"\n",
    "}\n",
    "india_df[\"gender\"] = india_df[\"gender\"].map(gender)  \n",
    "usa_df[\"gender\"] = usa_df[\"gender\"].map(gender)"
   ]
  },
  {
   "cell_type": "code",
   "execution_count": 11,
   "metadata": {},
   "outputs": [],
   "source": [
    "# add country column to both dataframes\n",
    "india_df['country'] = 'india'\n",
    "usa_df['country'] = 'usa'"
   ]
  },
  {
   "cell_type": "code",
   "execution_count": 1,
   "metadata": {},
   "outputs": [
    {
     "ename": "NameError",
     "evalue": "name 'pd' is not defined",
     "output_type": "error",
     "traceback": [
      "\u001b[1;31m---------------------------------------------------------------------------\u001b[0m",
      "\u001b[1;31mNameError\u001b[0m                                 Traceback (most recent call last)",
      "Cell \u001b[1;32mIn[1], line 2\u001b[0m\n\u001b[0;32m      1\u001b[0m \u001b[38;5;66;03m# Concantenate the DataFrames\u001b[39;00m\n\u001b[1;32m----> 2\u001b[0m merged \u001b[38;5;241m=\u001b[39m pd\u001b[38;5;241m.\u001b[39mconcat([india_df, usa_df], axis\u001b[38;5;241m=\u001b[39m\u001b[38;5;241m0\u001b[39m, ignore_index\u001b[38;5;241m=\u001b[39m\u001b[38;5;28;01mTrue\u001b[39;00m)\n\u001b[0;32m      3\u001b[0m \u001b[38;5;66;03m# find common cols\u001b[39;00m\n\u001b[0;32m      4\u001b[0m common_columns \u001b[38;5;241m=\u001b[39m india_df\u001b[38;5;241m.\u001b[39mcolumns\u001b[38;5;241m.\u001b[39mintersection(usa_df\u001b[38;5;241m.\u001b[39mcolumns)\n",
      "\u001b[1;31mNameError\u001b[0m: name 'pd' is not defined"
     ]
    }
   ],
   "source": [
    "# Concantenate the DataFrames\n",
    "merged = pd.concat([india_df, usa_df], axis=0, ignore_index=True)\n",
    "# find common cols\n",
    "common_columns = india_df.columns.intersection(usa_df.columns)\n",
    "# drop all columns except those with data in both samples: age, gender, heartdiseaseorattack, highbp, highchol\n",
    "merged = merged[common_columns]\n",
    "\n",
    "# cetegorize india age\n",
    "merged.loc[merged['country'] == 'india', 'age'] = pd.cut(merged.loc[merged['country'] == 'india', 'age'],\n",
    "                                                               bins=range(18, 85, 5),\n",
    "                                                               labels=range(1, 14),\n",
    "                                                               right=True).astype(int)\n",
    "\n",
    "grouped = (merged.groupby(\"country\")[\"age\"].value_counts(normalize=True).sort_index() * 100).round()\n",
    "\n",
    "# Print the percentage of each age value for India and USA separately\n",
    "# print(grouped)\n",
    "print(merged.head())\n",
    "\n",
    "# save\n",
    "merged.to_csv(\"./Data/merged_data.csv\")"
   ]
  },
  {
   "cell_type": "markdown",
   "metadata": {},
   "source": [
    "Data Analysis"
   ]
  },
  {
   "cell_type": "markdown",
   "metadata": {},
   "source": [
    "Analysis on combined data"
   ]
  },
  {
   "cell_type": "code",
   "execution_count": 13,
   "metadata": {},
   "outputs": [
    {
     "name": "stdout",
     "output_type": "stream",
     "text": [
      "Prevalence by Country:\n",
      "           highbp   highchol        cvd\n",
      "country                                \n",
      "india    89.40000  82.400000  58.000000\n",
      "usa      42.90011  42.412094   9.418559\n",
      "\n",
      "H1: The prevalence of high blood pressure is higher in the US compared to India: False\n",
      "H2: The prevalence of high cholesterol is higher in the US compared to India: False\n",
      "H3: The prevalence of CVD is higher in the US compared to India: False\n"
     ]
    }
   ],
   "source": [
    "# H1: The prevalence of high blood pressure is higher in the USA compared to India\n",
    "# H2: The prevalence of high cholesterol is higher in the USA compared to India\n",
    "# H3: The prevalence of heart disease is higher in the USA compared to India\n",
    "grouped = merged.groupby(\"country\")[[\"highbp\", \"highchol\", \"cvd\"]].mean() * 100\n",
    "\n",
    "print(\"Prevalence by Country:\")\n",
    "print(grouped)\n",
    "print()\n",
    "\n",
    "# Logical statements to compare the USA and India for each condition\n",
    "print(\"H1: The prevalence of high blood pressure is higher in the US compared to India:\", grouped.loc[\"usa\", \"highbp\"] > grouped.loc[\"india\", \"highbp\"])\n",
    "print(\"H2: The prevalence of high cholesterol is higher in the US compared to India:\", grouped.loc[\"usa\", \"highchol\"] > grouped.loc[\"india\", \"highchol\"])\n",
    "print(\"H3: The prevalence of CVD is higher in the US compared to India:\", grouped.loc[\"usa\", \"cvd\"] > grouped.loc[\"india\", \"cvd\"])"
   ]
  },
  {
   "cell_type": "markdown",
   "metadata": {},
   "source": [
    "Analysis on US sample"
   ]
  },
  {
   "cell_type": "code",
   "execution_count": 14,
   "metadata": {},
   "outputs": [
    {
     "name": "stdout",
     "output_type": "stream",
     "text": [
      "CVD prevalence among smokers: 13.17%\n",
      "CVD prevalence among non-smokers: 6.44%\n",
      "H4: The prevalence of CVD is higher among smokers than non-smokers: True\n"
     ]
    }
   ],
   "source": [
    "# H4: The prevalence of cvd is higher among smokers than non-smokers\n",
    "smoker = usa_df[usa_df[\"smoker\"] == 1]\n",
    "non_smoker = usa_df[usa_df[\"smoker\"] == 0]\n",
    "\n",
    "# Calculating the percentage of individuals with heart disease in each group\n",
    "cvd_smoker = (smoker[\"cvd\"].mean()) * 100\n",
    "cvd_non_smoker = (non_smoker[\"cvd\"].mean()) * 100\n",
    "\n",
    "print(f\"CVD prevalence among smokers: {cvd_smoker:.2f}%\")\n",
    "print(f\"CVD prevalence among non-smokers: {cvd_non_smoker:.2f}%\")\n",
    "print(\"H4: The prevalence of CVD is higher among smokers than non-smokers:\" , cvd_smoker > cvd_non_smoker)"
   ]
  },
  {
   "cell_type": "code",
   "execution_count": 15,
   "metadata": {},
   "outputs": [
    {
     "name": "stdout",
     "output_type": "stream",
     "text": [
      "Percentage with heart disease among those with high BP: 16.47%\n",
      "Percentage with heart disease among those without high BP: 4.12%\n",
      "H5: The prevalence of CVD is higher among individuals with high BP: True\n"
     ]
    }
   ],
   "source": [
    "# H5: The prevalence of cvd is higher among those with high BP\n",
    "high_bp = usa_df[usa_df[\"highbp\"] == 1]\n",
    "no_high_bp = usa_df[usa_df[\"highbp\"] == 0]\n",
    "\n",
    "# Calculating the percentage of individuals with heart disease in each group\n",
    "heart_disease_high_bp = (high_bp[\"cvd\"].mean()) * 100\n",
    "heart_disease_no_high_bp = (no_high_bp[\"cvd\"].mean()) * 100\n",
    "\n",
    "print(f\"Percentage with heart disease among those with high BP: {heart_disease_high_bp:.2f}%\")\n",
    "print(f\"Percentage with heart disease among those without high BP: {heart_disease_no_high_bp:.2f}%\")\n",
    "print(\"H5: The prevalence of CVD is higher among individuals with high BP:\" , heart_disease_high_bp > heart_disease_no_high_bp)"
   ]
  },
  {
   "cell_type": "code",
   "execution_count": 16,
   "metadata": {},
   "outputs": [],
   "source": [
    "# H6: The prevalence of cvd is higher among those with high chol"
   ]
  },
  {
   "cell_type": "markdown",
   "metadata": {},
   "source": [
    "Visualizing the Data"
   ]
  },
  {
   "cell_type": "code",
   "execution_count": 17,
   "metadata": {},
   "outputs": [],
   "source": [
    "# Defining relevant Plots"
   ]
  },
  {
   "cell_type": "code",
   "execution_count": null,
   "metadata": {},
   "outputs": [],
   "source": []
  }
 ],
 "metadata": {
  "kernelspec": {
   "display_name": "Python 3 (ipykernel)",
   "language": "python",
   "name": "python3"
  },
  "language_info": {
   "codemirror_mode": {
    "name": "ipython",
    "version": 3
   },
   "file_extension": ".py",
   "mimetype": "text/x-python",
   "name": "python",
   "nbconvert_exporter": "python",
   "pygments_lexer": "ipython3",
   "version": "3.12.4"
  }
 },
 "nbformat": 4,
 "nbformat_minor": 4
}
