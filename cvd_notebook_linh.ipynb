{
 "cells": [
  {
   "cell_type": "markdown",
   "metadata": {},
   "source": [
    "Importing relevent libraries"
   ]
  },
  {
   "cell_type": "code",
   "execution_count": 1,
   "metadata": {},
   "outputs": [
    {
     "name": "stdout",
     "output_type": "stream",
     "text": [
      "Warning: Your Kaggle API key is readable by other users on this system! To fix this, you can run 'chmod 600 /Users/linh/.kaggle/kaggle.json'\n"
     ]
    }
   ],
   "source": [
    "import pandas as pd \n",
    "from cleaning import *  # Import all functions from cleaning\n",
    "import kaggle\n",
    "from kaggle.api.kaggle_api_extended import KaggleApi  # Import Kaggle Api\n",
    "import zipfile"
   ]
  },
  {
   "cell_type": "code",
   "execution_count": 2,
   "metadata": {},
   "outputs": [
    {
     "name": "stdout",
     "output_type": "stream",
     "text": [
      "Warning: Your Kaggle API key is readable by other users on this system! To fix this, you can run 'chmod 600 /Users/linh/.kaggle/kaggle.json'\n",
      "Next Page Token = CfDJ8KWOACvMaNFPiIJ818QpJK2KB9QglG6t5L4u-Muh13eJ-niU0JWtyVt75_mJVWYqVGWn75ziv1xfM2xGSH3Iuzw\n",
      "    id  ref                                              title                            subtitle                                                                                                                                                                                                                                                       author                                  \n",
      "------  -----------------------------------------------  -------------------------------  -------------------------------------------------------------------------------------------------------------------------------------------------------------------------------------------------------------------------------------------------------------  --------------------------------------  \n",
      "121027  metaresearch/llama-3.2                           Llama 3.2                        The Meta Llama 3.2 collection of multilingual large language models (LLMs) is a collection of pretrained and instruction-tuned generative models in 1B and 3B sizes (text in/text out).                                                                        Meta                                    \n",
      "105694  adedapoadeniran/ai-qr-code-decoder-deeplearning  AI-QR-Code-Decoder-DeepLearning  Xception DL architecture trained on 2500 QR Codes v1 images of four digits numbers starting from 1002 to 9996                                                                                                                                                  Brainydaps                              \n",
      "  3301  google/gemma                                     Gemma                            Gemma is a family of lightweight, open models built from the research and technology that Google used to create the Gemini models.                                                                                                                             Google                                  \n",
      "105272  umeradnaan/yolo-v8                               YOLO-V8                          Remote Sensing Satellite                                                                                                                                                                                                                                       Shaik Barood Mohammed Umar Adnaan Faiz  \n",
      " 91102  metaresearch/llama-3.1                           Llama 3.1                        The Meta Llama 3.1 collection of multilingual large language models (LLMs) is a collection of pretrained and instruction tuned generative models in 8B, 70B and 405B sizes (text in/text out).                                                                 Meta                                    \n",
      "121030  metaresearch/llama-3.2-vision                    Llama 3.2 Vision                 The Llama 3.2-Vision collection of multimodal large language models (LLMs) is a collection of pretrained and instruction-tuned image reasoning generative models in 11B and 90B sizes (text + images in / text out).                                           Meta                                    \n",
      "111013  google/datagemma-rig                             DataGemma RIG                    Fine-tuned Gemma model that harnesses the knowledge of Data Commons to enhance LLM factuality and reasoning.                                                                                                                                                   Google                                  \n",
      "  3533  keras/gemma                                      Gemma                            Keras implementation of the Gemma model. This Keras 3 implementation will run on JAX, TensorFlow and PyTorch.                                                                                                                                                  Keras                                   \n",
      "100857  metaresearch/segment-anything-2                  Segment Anything 2               Segment Anything Model 2 (SAM 2) is a foundation model towards solving promptable visual segmentation in images and videos.                                                                                                                                    Meta                                    \n",
      "111039  google/datagemma-rag                             DataGemma RAG                    Fine-tuned Gemma model that helps LLMs harness the knowledge of Data Commons to enhance factuality and reasoning.                                                                                                                                              Google                                  \n",
      "107178  black-forest-labs/flux                           FLUX.1                           The FLUX.1 models are 12 billion parameter rectified flow transformers that generate images given a text prompt.                                                                                                                                               Black Forest Labs                       \n",
      "124592  metaresearch/llama-guard-3.2                     Llama Guard 3.2                  Llama Guard 3-1B is a fine-tuned Llama-3.2-1B pretrained model for content safety classification. Similar to previous versions, it can be used to classify content in both LLM inputs (prompt classification) and in LLM responses (response classification).  Meta                                    \n",
      "119502  abdullahmeda/stella-en-embedding-400m-v5         Stella EN Embedding 400M v5                                                                                                                                                                                                                                                                     Abdullah Meda                           \n",
      "116117  madhuraatmarambhagat/images                      YOLO Algorithm                   Pretrained YOLO model                                                                                                                                                                                                                                          Madhura Atmaram Bhagat                  \n",
      "105384  collinstedham/lexie-1                            Lexie 1                          This is the best model so far! Experience the future of AI with this humanlike AI that is sure to be your best helper and friend. Lexie is ready to help with insanely powerful search, pdf and image capabilities, translation, and so much more!             Collin Stedham                          \n",
      "124593  metaresearch/llama-guard-vision-3.2              Llama Guard Vision 3.2           Llama Guard 3 Vision is a Llama-3.2-11B pretrained model, fine-tuned for content safety classification. Similar to previous versions [1-3], it can be used to safeguard content for both LLM inputs (prompt classification) and LLM responses.                 Meta                                    \n",
      "117041  faiqueali/facenet-tensorflow                     FaceNet | Tensorflow             Pretrained FaceNet model for face recognition and embedding generation, optimized for use in real-time applications                                                                                                                                            Faique Ali                              \n",
      "  2797  keras/efficientnetv2                             EfficientNetV2                   Instantiates the EfficientNetV2 architecture.                                                                                                                                                                                                                  Keras                                   \n",
      " 78150  keras/gemma2                                     Gemma 2                          Keras implementation of the Gemma 2 model. This Keras 3 implementation will run on JAX, TensorFlow and PyTorch.                                                                                                                                                Keras                                   \n",
      "123513  richolson/phi-3.5-mini-instruct                  Phi-3.5-mini-instruct                                                                                                                                                                                                                                                                           Rich Olson                              \n",
      "Dataset URL: https://www.kaggle.com/datasets/alexteboul/heart-disease-health-indicators-dataset\n"
     ]
    }
   ],
   "source": [
    "# Initiliaze API \n",
    "\n",
    "api = KaggleApi()\n",
    "api.authenticate()\n",
    "api.model_list_cli()\n",
    "\n",
    "# Donwload Dataset via API unzipped\n",
    "\n",
    "api.dataset_download_files(dataset=\"alexteboul/heart-disease-health-indicators-dataset\", unzip=True)\n",
    "\n",
    "# Saving DataSets into DF\n",
    "usa_data = pd.read_csv(\"heart_disease_health_indicators_BRFSS2015.csv\")\n",
    "india_df = pd.read_csv(\"./Data/CVD_india_data_raw.csv\")"
   ]
  },
  {
   "cell_type": "markdown",
   "metadata": {},
   "source": [
    "Cleaning and Transforming Data"
   ]
  },
  {
   "cell_type": "code",
   "execution_count": 3,
   "metadata": {},
   "outputs": [],
   "source": [
    "# Synchronize matching columns\n",
    "\n",
    "usa_data.columns = usa_data.columns.str.lower()\n",
    "india_df.columns = india_df.columns.str.lower()"
   ]
  },
  {
   "cell_type": "code",
   "execution_count": 4,
   "metadata": {},
   "outputs": [],
   "source": [
    "# Aligning Dtypes\n",
    "usa_data = usa_data.apply(lambda x:x.astype(int))\n",
    "india_df = india_df.apply(lambda x:x.astype(int, errors= \"ignore\"))"
   ]
  },
  {
   "cell_type": "code",
   "execution_count": 5,
   "metadata": {},
   "outputs": [],
   "source": [
    "# Checking and konsolodate the columns\n",
    "\n",
    "# Renaming India columns\n",
    "india_df = india_df.rename(columns={\"target\":\"heartdiseaseorattack\"})"
   ]
  },
  {
   "cell_type": "code",
   "execution_count": 16,
   "metadata": {},
   "outputs": [
    {
     "ename": "SyntaxError",
     "evalue": "invalid syntax (828815760.py, line 7)",
     "output_type": "error",
     "traceback": [
      "\u001b[0;36m  Cell \u001b[0;32mIn[16], line 7\u001b[0;36m\u001b[0m\n\u001b[0;31m    india_df[\"gender\"] = india_df[\"gender\"].rename(\"gender\":\"sex\")\u001b[0m\n\u001b[0m                                                           ^\u001b[0m\n\u001b[0;31mSyntaxError\u001b[0m\u001b[0;31m:\u001b[0m invalid syntax\n"
     ]
    }
   ],
   "source": [
    "# Aligning gender \n",
    "gender = {\n",
    "    1:\"m\",\n",
    "    0:\"f\"\n",
    "}\n",
    "india_df[\"gender\"] = india_df[\"gender\"].map(gender)\n",
    "india_df[\"gender\"] = india_df[\"gender\"].rename(\"gender\":\"sex\")"
   ]
  },
  {
   "cell_type": "code",
   "execution_count": 14,
   "metadata": {},
   "outputs": [
    {
     "data": {
      "text/plain": [
       "Index(['patientid', 'age', 'gender', 'chestpain', 'restingbp',\n",
       "       'serumcholestrol', 'fastingbloodsugar', 'restingrelectro',\n",
       "       'maxheartrate', 'exerciseangia', 'oldpeak', 'slope', 'noofmajorvessels',\n",
       "       'heartdiseaseorattack'],\n",
       "      dtype='object')"
      ]
     },
     "execution_count": 14,
     "metadata": {},
     "output_type": "execute_result"
    }
   ],
   "source": [
    "india_df.columns"
   ]
  },
  {
   "cell_type": "code",
   "execution_count": 15,
   "metadata": {},
   "outputs": [
    {
     "data": {
      "text/plain": [
       "Index(['heartdiseaseorattack', 'highbp', 'highchol', 'cholcheck', 'bmi',\n",
       "       'smoker', 'stroke', 'diabetes', 'physactivity', 'fruits', 'veggies',\n",
       "       'hvyalcoholconsump', 'anyhealthcare', 'nodocbccost', 'genhlth',\n",
       "       'menthlth', 'physhlth', 'diffwalk', 'sex', 'age', 'education',\n",
       "       'income'],\n",
       "      dtype='object')"
      ]
     },
     "execution_count": 15,
     "metadata": {},
     "output_type": "execute_result"
    }
   ],
   "source": [
    "usa_data.columns"
   ]
  },
  {
   "cell_type": "markdown",
   "metadata": {},
   "source": [
    "Clean Data"
   ]
  },
  {
   "cell_type": "code",
   "execution_count": 8,
   "metadata": {},
   "outputs": [
    {
     "data": {
      "text/html": [
       "<div>\n",
       "<style scoped>\n",
       "    .dataframe tbody tr th:only-of-type {\n",
       "        vertical-align: middle;\n",
       "    }\n",
       "\n",
       "    .dataframe tbody tr th {\n",
       "        vertical-align: top;\n",
       "    }\n",
       "\n",
       "    .dataframe thead th {\n",
       "        text-align: right;\n",
       "    }\n",
       "</style>\n",
       "<table border=\"1\" class=\"dataframe\">\n",
       "  <thead>\n",
       "    <tr style=\"text-align: right;\">\n",
       "      <th></th>\n",
       "      <th>patientid</th>\n",
       "      <th>age</th>\n",
       "      <th>gender</th>\n",
       "      <th>chestpain</th>\n",
       "      <th>restingbp</th>\n",
       "      <th>serumcholestrol</th>\n",
       "      <th>fastingbloodsugar</th>\n",
       "      <th>restingrelectro</th>\n",
       "      <th>maxheartrate</th>\n",
       "      <th>exerciseangia</th>\n",
       "      <th>oldpeak</th>\n",
       "      <th>slope</th>\n",
       "      <th>noofmajorvessels</th>\n",
       "      <th>heartdiseaseorattack</th>\n",
       "    </tr>\n",
       "  </thead>\n",
       "  <tbody>\n",
       "    <tr>\n",
       "      <th>0</th>\n",
       "      <td>103368</td>\n",
       "      <td>53</td>\n",
       "      <td>m</td>\n",
       "      <td>2</td>\n",
       "      <td>171</td>\n",
       "      <td>0</td>\n",
       "      <td>0</td>\n",
       "      <td>1</td>\n",
       "      <td>147</td>\n",
       "      <td>0</td>\n",
       "      <td>5</td>\n",
       "      <td>3</td>\n",
       "      <td>3</td>\n",
       "      <td>1</td>\n",
       "    </tr>\n",
       "    <tr>\n",
       "      <th>1</th>\n",
       "      <td>119250</td>\n",
       "      <td>40</td>\n",
       "      <td>m</td>\n",
       "      <td>0</td>\n",
       "      <td>94</td>\n",
       "      <td>229</td>\n",
       "      <td>0</td>\n",
       "      <td>1</td>\n",
       "      <td>115</td>\n",
       "      <td>0</td>\n",
       "      <td>3</td>\n",
       "      <td>1</td>\n",
       "      <td>1</td>\n",
       "      <td>0</td>\n",
       "    </tr>\n",
       "    <tr>\n",
       "      <th>2</th>\n",
       "      <td>119372</td>\n",
       "      <td>49</td>\n",
       "      <td>m</td>\n",
       "      <td>2</td>\n",
       "      <td>133</td>\n",
       "      <td>142</td>\n",
       "      <td>0</td>\n",
       "      <td>0</td>\n",
       "      <td>202</td>\n",
       "      <td>1</td>\n",
       "      <td>5</td>\n",
       "      <td>1</td>\n",
       "      <td>0</td>\n",
       "      <td>0</td>\n",
       "    </tr>\n",
       "    <tr>\n",
       "      <th>3</th>\n",
       "      <td>132514</td>\n",
       "      <td>43</td>\n",
       "      <td>m</td>\n",
       "      <td>0</td>\n",
       "      <td>138</td>\n",
       "      <td>295</td>\n",
       "      <td>1</td>\n",
       "      <td>1</td>\n",
       "      <td>153</td>\n",
       "      <td>0</td>\n",
       "      <td>3</td>\n",
       "      <td>2</td>\n",
       "      <td>2</td>\n",
       "      <td>1</td>\n",
       "    </tr>\n",
       "    <tr>\n",
       "      <th>4</th>\n",
       "      <td>146211</td>\n",
       "      <td>31</td>\n",
       "      <td>m</td>\n",
       "      <td>1</td>\n",
       "      <td>199</td>\n",
       "      <td>0</td>\n",
       "      <td>0</td>\n",
       "      <td>2</td>\n",
       "      <td>136</td>\n",
       "      <td>0</td>\n",
       "      <td>5</td>\n",
       "      <td>3</td>\n",
       "      <td>2</td>\n",
       "      <td>1</td>\n",
       "    </tr>\n",
       "    <tr>\n",
       "      <th>...</th>\n",
       "      <td>...</td>\n",
       "      <td>...</td>\n",
       "      <td>...</td>\n",
       "      <td>...</td>\n",
       "      <td>...</td>\n",
       "      <td>...</td>\n",
       "      <td>...</td>\n",
       "      <td>...</td>\n",
       "      <td>...</td>\n",
       "      <td>...</td>\n",
       "      <td>...</td>\n",
       "      <td>...</td>\n",
       "      <td>...</td>\n",
       "      <td>...</td>\n",
       "    </tr>\n",
       "    <tr>\n",
       "      <th>995</th>\n",
       "      <td>9949544</td>\n",
       "      <td>48</td>\n",
       "      <td>m</td>\n",
       "      <td>2</td>\n",
       "      <td>139</td>\n",
       "      <td>349</td>\n",
       "      <td>0</td>\n",
       "      <td>2</td>\n",
       "      <td>183</td>\n",
       "      <td>1</td>\n",
       "      <td>5</td>\n",
       "      <td>2</td>\n",
       "      <td>2</td>\n",
       "      <td>1</td>\n",
       "    </tr>\n",
       "    <tr>\n",
       "      <th>996</th>\n",
       "      <td>9953423</td>\n",
       "      <td>47</td>\n",
       "      <td>m</td>\n",
       "      <td>3</td>\n",
       "      <td>143</td>\n",
       "      <td>258</td>\n",
       "      <td>1</td>\n",
       "      <td>1</td>\n",
       "      <td>98</td>\n",
       "      <td>1</td>\n",
       "      <td>5</td>\n",
       "      <td>1</td>\n",
       "      <td>0</td>\n",
       "      <td>0</td>\n",
       "    </tr>\n",
       "    <tr>\n",
       "      <th>997</th>\n",
       "      <td>9965859</td>\n",
       "      <td>69</td>\n",
       "      <td>m</td>\n",
       "      <td>0</td>\n",
       "      <td>156</td>\n",
       "      <td>434</td>\n",
       "      <td>1</td>\n",
       "      <td>0</td>\n",
       "      <td>196</td>\n",
       "      <td>0</td>\n",
       "      <td>1</td>\n",
       "      <td>3</td>\n",
       "      <td>1</td>\n",
       "      <td>1</td>\n",
       "    </tr>\n",
       "    <tr>\n",
       "      <th>998</th>\n",
       "      <td>9988507</td>\n",
       "      <td>45</td>\n",
       "      <td>m</td>\n",
       "      <td>1</td>\n",
       "      <td>186</td>\n",
       "      <td>417</td>\n",
       "      <td>0</td>\n",
       "      <td>1</td>\n",
       "      <td>117</td>\n",
       "      <td>1</td>\n",
       "      <td>5</td>\n",
       "      <td>3</td>\n",
       "      <td>2</td>\n",
       "      <td>1</td>\n",
       "    </tr>\n",
       "    <tr>\n",
       "      <th>999</th>\n",
       "      <td>9990855</td>\n",
       "      <td>25</td>\n",
       "      <td>m</td>\n",
       "      <td>0</td>\n",
       "      <td>158</td>\n",
       "      <td>270</td>\n",
       "      <td>0</td>\n",
       "      <td>0</td>\n",
       "      <td>143</td>\n",
       "      <td>1</td>\n",
       "      <td>4</td>\n",
       "      <td>0</td>\n",
       "      <td>0</td>\n",
       "      <td>0</td>\n",
       "    </tr>\n",
       "  </tbody>\n",
       "</table>\n",
       "<p>1000 rows × 14 columns</p>\n",
       "</div>"
      ],
      "text/plain": [
       "     patientid  age gender  chestpain  restingbp  serumcholestrol  \\\n",
       "0       103368   53      m          2        171                0   \n",
       "1       119250   40      m          0         94              229   \n",
       "2       119372   49      m          2        133              142   \n",
       "3       132514   43      m          0        138              295   \n",
       "4       146211   31      m          1        199                0   \n",
       "..         ...  ...    ...        ...        ...              ...   \n",
       "995    9949544   48      m          2        139              349   \n",
       "996    9953423   47      m          3        143              258   \n",
       "997    9965859   69      m          0        156              434   \n",
       "998    9988507   45      m          1        186              417   \n",
       "999    9990855   25      m          0        158              270   \n",
       "\n",
       "     fastingbloodsugar  restingrelectro  maxheartrate  exerciseangia  oldpeak  \\\n",
       "0                    0                1           147              0        5   \n",
       "1                    0                1           115              0        3   \n",
       "2                    0                0           202              1        5   \n",
       "3                    1                1           153              0        3   \n",
       "4                    0                2           136              0        5   \n",
       "..                 ...              ...           ...            ...      ...   \n",
       "995                  0                2           183              1        5   \n",
       "996                  1                1            98              1        5   \n",
       "997                  1                0           196              0        1   \n",
       "998                  0                1           117              1        5   \n",
       "999                  0                0           143              1        4   \n",
       "\n",
       "     slope  noofmajorvessels  heartdiseaseorattack  \n",
       "0        3                 3                     1  \n",
       "1        1                 1                     0  \n",
       "2        1                 0                     0  \n",
       "3        2                 2                     1  \n",
       "4        3                 2                     1  \n",
       "..     ...               ...                   ...  \n",
       "995      2                 2                     1  \n",
       "996      1                 0                     0  \n",
       "997      3                 1                     1  \n",
       "998      3                 2                     1  \n",
       "999      0                 0                     0  \n",
       "\n",
       "[1000 rows x 14 columns]"
      ]
     },
     "execution_count": 8,
     "metadata": {},
     "output_type": "execute_result"
    }
   ],
   "source": [
    "india_df"
   ]
  },
  {
   "cell_type": "code",
   "execution_count": 9,
   "metadata": {},
   "outputs": [],
   "source": [
    "# Concantenate the DataFrames"
   ]
  },
  {
   "cell_type": "code",
   "execution_count": null,
   "metadata": {},
   "outputs": [],
   "source": []
  },
  {
   "cell_type": "code",
   "execution_count": null,
   "metadata": {},
   "outputs": [],
   "source": []
  },
  {
   "cell_type": "markdown",
   "metadata": {},
   "source": [
    "Preparing the Data Analysis"
   ]
  },
  {
   "cell_type": "code",
   "execution_count": 10,
   "metadata": {},
   "outputs": [],
   "source": [
    "# Defining Hypothesis and relevant Data"
   ]
  },
  {
   "cell_type": "code",
   "execution_count": 11,
   "metadata": {
    "notebookRunGroups": {
     "groupValue": "1"
    }
   },
   "outputs": [],
   "source": [
    "# Transforming USA Data + Checking relevant Columns\n",
    "# changing data Types to floats or in to floats"
   ]
  },
  {
   "cell_type": "code",
   "execution_count": null,
   "metadata": {},
   "outputs": [],
   "source": []
  },
  {
   "cell_type": "code",
   "execution_count": null,
   "metadata": {},
   "outputs": [],
   "source": []
  },
  {
   "cell_type": "markdown",
   "metadata": {},
   "source": [
    "Visualizing the Data"
   ]
  },
  {
   "cell_type": "code",
   "execution_count": 12,
   "metadata": {},
   "outputs": [],
   "source": [
    "# Importing relevant Liberaries"
   ]
  },
  {
   "cell_type": "code",
   "execution_count": 13,
   "metadata": {},
   "outputs": [],
   "source": [
    "# Defining relevant Plots"
   ]
  },
  {
   "cell_type": "code",
   "execution_count": null,
   "metadata": {},
   "outputs": [],
   "source": []
  },
  {
   "cell_type": "code",
   "execution_count": null,
   "metadata": {},
   "outputs": [],
   "source": []
  }
 ],
 "metadata": {
  "kernelspec": {
   "display_name": "base",
   "language": "python",
   "name": "python3"
  },
  "language_info": {
   "codemirror_mode": {
    "name": "ipython",
    "version": 3
   },
   "file_extension": ".py",
   "mimetype": "text/x-python",
   "name": "python",
   "nbconvert_exporter": "python",
   "pygments_lexer": "ipython3",
   "version": "3.12.4"
  }
 },
 "nbformat": 4,
 "nbformat_minor": 2
}
