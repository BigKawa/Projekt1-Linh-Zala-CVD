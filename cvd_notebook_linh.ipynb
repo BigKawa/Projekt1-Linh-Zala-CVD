{
 "cells": [
  {
   "cell_type": "markdown",
   "metadata": {},
   "source": [
    "Importing relevent libraries"
   ]
  },
  {
   "cell_type": "code",
   "execution_count": 12,
   "metadata": {},
   "outputs": [],
   "source": [
    "import pandas as pd \n",
    "from cleaning import *  # Import all functions from cleaning\n",
    "import kaggle\n",
    "from kaggle.api.kaggle_api_extended import KaggleApi  # Import Kaggle Api\n",
    "import zipfile"
   ]
  },
  {
   "cell_type": "code",
   "execution_count": null,
   "metadata": {},
   "outputs": [],
   "source": [
    "# Initiliaze API \n",
    "\n",
    "api = KaggleApi()\n",
    "api.authenticate()\n",
    "api.model_list_cli()\n",
    "\n",
    "# Donwload Dataset via API unzipped\n",
    "\n",
    "api.dataset_download_files(dataset=\"alexteboul/heart-disease-health-indicators-dataset\", unzip=True)\n",
    "\n",
    "# Saving DataSets into DF\n",
    "usa_data = pd.read_csv(\"heart_disease_health_indicators_BRFSS2015.csv\")\n",
    "india_df = pd.read_csv(\"./Data/CVD_india_data_raw.csv\")"
   ]
  },
  {
   "cell_type": "markdown",
   "metadata": {},
   "source": [
    "Cleaning and Transforming Data"
   ]
  },
  {
   "cell_type": "code",
   "execution_count": 14,
   "metadata": {},
   "outputs": [],
   "source": [
    "# Synchronize matching columns\n",
    "\n",
    "usa_data.columns = usa_data.columns.str.lower()\n",
    "india_df.columns = india_df.columns.str.lower()"
   ]
  },
  {
   "cell_type": "code",
   "execution_count": null,
   "metadata": {},
   "outputs": [],
   "source": []
  },
  {
   "cell_type": "code",
   "execution_count": null,
   "metadata": {},
   "outputs": [],
   "source": []
  },
  {
   "cell_type": "code",
   "execution_count": null,
   "metadata": {},
   "outputs": [],
   "source": []
  },
  {
   "cell_type": "code",
   "execution_count": 15,
   "metadata": {},
   "outputs": [
    {
     "name": "stdout",
     "output_type": "stream",
     "text": [
      "<class 'pandas.core.frame.DataFrame'>\n",
      "RangeIndex: 253680 entries, 0 to 253679\n",
      "Data columns (total 22 columns):\n",
      " #   Column                Non-Null Count   Dtype  \n",
      "---  ------                --------------   -----  \n",
      " 0   heartdiseaseorattack  253680 non-null  float64\n",
      " 1   highbp                253680 non-null  float64\n",
      " 2   highchol              253680 non-null  float64\n",
      " 3   cholcheck             253680 non-null  float64\n",
      " 4   bmi                   253680 non-null  float64\n",
      " 5   smoker                253680 non-null  float64\n",
      " 6   stroke                253680 non-null  float64\n",
      " 7   diabetes              253680 non-null  float64\n",
      " 8   physactivity          253680 non-null  float64\n",
      " 9   fruits                253680 non-null  float64\n",
      " 10  veggies               253680 non-null  float64\n",
      " 11  hvyalcoholconsump     253680 non-null  float64\n",
      " 12  anyhealthcare         253680 non-null  float64\n",
      " 13  nodocbccost           253680 non-null  float64\n",
      " 14  genhlth               253680 non-null  float64\n",
      " 15  menthlth              253680 non-null  float64\n",
      " 16  physhlth              253680 non-null  float64\n",
      " 17  diffwalk              253680 non-null  float64\n",
      " 18  sex                   253680 non-null  float64\n",
      " 19  age                   253680 non-null  float64\n",
      " 20  education             253680 non-null  float64\n",
      " 21  income                253680 non-null  float64\n",
      "dtypes: float64(22)\n",
      "memory usage: 42.6 MB\n"
     ]
    }
   ],
   "source": [
    "usa_data.info()"
   ]
  },
  {
   "cell_type": "code",
   "execution_count": 16,
   "metadata": {},
   "outputs": [
    {
     "name": "stdout",
     "output_type": "stream",
     "text": [
      "<class 'pandas.core.frame.DataFrame'>\n",
      "RangeIndex: 1000 entries, 0 to 999\n",
      "Data columns (total 14 columns):\n",
      " #   Column             Non-Null Count  Dtype  \n",
      "---  ------             --------------  -----  \n",
      " 0   patientid          1000 non-null   int64  \n",
      " 1   age                1000 non-null   int64  \n",
      " 2   gender             1000 non-null   int64  \n",
      " 3   chestpain          1000 non-null   int64  \n",
      " 4   restingbp          1000 non-null   int64  \n",
      " 5   serumcholestrol    1000 non-null   int64  \n",
      " 6   fastingbloodsugar  1000 non-null   int64  \n",
      " 7   restingrelectro    1000 non-null   int64  \n",
      " 8   maxheartrate       1000 non-null   int64  \n",
      " 9   exerciseangia      1000 non-null   int64  \n",
      " 10  oldpeak            1000 non-null   float64\n",
      " 11  slope              1000 non-null   int64  \n",
      " 12  noofmajorvessels   1000 non-null   int64  \n",
      " 13  target             1000 non-null   int64  \n",
      "dtypes: float64(1), int64(13)\n",
      "memory usage: 109.5 KB\n"
     ]
    }
   ],
   "source": [
    "india_df.info()"
   ]
  },
  {
   "cell_type": "markdown",
   "metadata": {},
   "source": [
    "Clean Data"
   ]
  },
  {
   "cell_type": "code",
   "execution_count": 17,
   "metadata": {},
   "outputs": [
    {
     "data": {
      "text/plain": [
       "array([1, 0], dtype=int64)"
      ]
     },
     "execution_count": 17,
     "metadata": {},
     "output_type": "execute_result"
    }
   ],
   "source": [
    "# Checking and konsolodate the columns\n",
    "india_df[\"target\"].unique()"
   ]
  },
  {
   "cell_type": "code",
   "execution_count": 21,
   "metadata": {},
   "outputs": [
    {
     "data": {
      "text/plain": [
       "array([0, 1], dtype=int64)"
      ]
     },
     "execution_count": 21,
     "metadata": {},
     "output_type": "execute_result"
    }
   ],
   "source": [
    "\n",
    "usa_data[\"heartdiseaseorattack\"] = usa_data[\"heartdiseaseorattack\"].apply(lambda x:int(x))\n",
    "usa_data[\"heartdiseaseorattack\"].unique()"
   ]
  },
  {
   "cell_type": "code",
   "execution_count": 13,
   "metadata": {},
   "outputs": [],
   "source": [
    "# Concantenate the DataFrames"
   ]
  },
  {
   "cell_type": "code",
   "execution_count": null,
   "metadata": {},
   "outputs": [],
   "source": []
  },
  {
   "cell_type": "code",
   "execution_count": null,
   "metadata": {},
   "outputs": [],
   "source": []
  },
  {
   "cell_type": "markdown",
   "metadata": {},
   "source": [
    "Preparing the Data Analysis"
   ]
  },
  {
   "cell_type": "code",
   "execution_count": 14,
   "metadata": {},
   "outputs": [],
   "source": [
    "# Defining Hypothesis and relevant Data"
   ]
  },
  {
   "cell_type": "code",
   "execution_count": null,
   "metadata": {
    "notebookRunGroups": {
     "groupValue": "1"
    }
   },
   "outputs": [],
   "source": [
    "# Transforming USA Data + Checking relevant Columns\n",
    "# changing data Types to floats or in to floats"
   ]
  },
  {
   "cell_type": "code",
   "execution_count": null,
   "metadata": {},
   "outputs": [],
   "source": []
  },
  {
   "cell_type": "code",
   "execution_count": null,
   "metadata": {},
   "outputs": [],
   "source": []
  },
  {
   "cell_type": "markdown",
   "metadata": {},
   "source": [
    "Visualizing the Data"
   ]
  },
  {
   "cell_type": "code",
   "execution_count": 15,
   "metadata": {},
   "outputs": [],
   "source": [
    "# Importing relevant Liberaries"
   ]
  },
  {
   "cell_type": "code",
   "execution_count": 16,
   "metadata": {},
   "outputs": [],
   "source": [
    "# Defining relevant Plots"
   ]
  },
  {
   "cell_type": "code",
   "execution_count": null,
   "metadata": {},
   "outputs": [],
   "source": []
  },
  {
   "cell_type": "code",
   "execution_count": null,
   "metadata": {},
   "outputs": [],
   "source": []
  }
 ],
 "metadata": {
  "kernelspec": {
   "display_name": "base",
   "language": "python",
   "name": "python3"
  },
  "language_info": {
   "codemirror_mode": {
    "name": "ipython",
    "version": 3
   },
   "file_extension": ".py",
   "mimetype": "text/x-python",
   "name": "python",
   "nbconvert_exporter": "python",
   "pygments_lexer": "ipython3",
   "version": "3.12.4"
  }
 },
 "nbformat": 4,
 "nbformat_minor": 2
}
