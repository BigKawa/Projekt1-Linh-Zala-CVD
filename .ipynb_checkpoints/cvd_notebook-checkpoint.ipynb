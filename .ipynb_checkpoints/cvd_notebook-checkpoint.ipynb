{
 "cells": [
  {
   "cell_type": "markdown",
   "metadata": {},
   "source": [
    "1. Run \"pip install kaggle\" \n",
    "\n",
    "2. Move \"kaggle.json\" to following Path /Users/linh/.kaggle"
   ]
  },
  {
   "cell_type": "markdown",
   "metadata": {},
   "source": [
    "Importing relevent libraries"
   ]
  },
  {
   "cell_type": "code",
   "execution_count": 3,
   "metadata": {},
   "outputs": [
    {
     "ename": "ModuleNotFoundError",
     "evalue": "No module named 'kaggle'",
     "output_type": "error",
     "traceback": [
      "\u001b[0;31m---------------------------------------------------------------------------\u001b[0m",
      "\u001b[0;31mModuleNotFoundError\u001b[0m                       Traceback (most recent call last)",
      "Cell \u001b[0;32mIn[3], line 4\u001b[0m\n\u001b[1;32m      2\u001b[0m \u001b[38;5;28;01mfrom\u001b[39;00m \u001b[38;5;21;01mcleaning\u001b[39;00m \u001b[38;5;28;01mimport\u001b[39;00m \u001b[38;5;241m*\u001b[39m  \u001b[38;5;66;03m# Import all functions from cleaning\u001b[39;00m\n\u001b[1;32m      3\u001b[0m \u001b[38;5;28;01mimport\u001b[39;00m \u001b[38;5;21;01mzipfile\u001b[39;00m\n\u001b[0;32m----> 4\u001b[0m \u001b[38;5;28;01mimport\u001b[39;00m \u001b[38;5;21;01mkaggle\u001b[39;00m\n\u001b[1;32m      5\u001b[0m \u001b[38;5;28;01mfrom\u001b[39;00m \u001b[38;5;21;01mkaggle\u001b[39;00m\u001b[38;5;21;01m.\u001b[39;00m\u001b[38;5;21;01mapi\u001b[39;00m\u001b[38;5;21;01m.\u001b[39;00m\u001b[38;5;21;01mkaggle_api_extended\u001b[39;00m \u001b[38;5;28;01mimport\u001b[39;00m KaggleApi  \u001b[38;5;66;03m# Import Kaggle Api\u001b[39;00m\n\u001b[1;32m      6\u001b[0m \u001b[38;5;28;01mimport\u001b[39;00m \u001b[38;5;21;01mrequests\u001b[39;00m\n",
      "\u001b[0;31mModuleNotFoundError\u001b[0m: No module named 'kaggle'"
     ]
    }
   ],
   "source": [
    "import pandas as pd \n",
    "from cleaning import *  # Import all functions from cleaning\n",
    "import zipfile\n",
    "import kaggle\n",
    "from kaggle.api.kaggle_api_extended import KaggleApi  # Import Kaggle Api\n",
    "import requests\n",
    "from bs4 import BeautifulSoup"
   ]
  },
  {
   "cell_type": "code",
   "execution_count": 5,
   "metadata": {},
   "outputs": [
    {
     "ename": "NameError",
     "evalue": "name 'KaggleApi' is not defined",
     "output_type": "error",
     "traceback": [
      "\u001b[0;31m---------------------------------------------------------------------------\u001b[0m",
      "\u001b[0;31mNameError\u001b[0m                                 Traceback (most recent call last)",
      "Cell \u001b[0;32mIn[5], line 2\u001b[0m\n\u001b[1;32m      1\u001b[0m \u001b[38;5;66;03m# Initiliaze API\u001b[39;00m\n\u001b[0;32m----> 2\u001b[0m api \u001b[38;5;241m=\u001b[39m \u001b[43mKaggleApi\u001b[49m()\n\u001b[1;32m      3\u001b[0m api\u001b[38;5;241m.\u001b[39mauthenticate()\n\u001b[1;32m      4\u001b[0m api\u001b[38;5;241m.\u001b[39mmodel_list_cli()\n",
      "\u001b[0;31mNameError\u001b[0m: name 'KaggleApi' is not defined"
     ]
    }
   ],
   "source": [
    "# Initiliaze API\n",
    "api = KaggleApi()\n",
    "api.authenticate()\n",
    "api.model_list_cli()\n",
    "\n",
    "# Donwload Dataset via API unzipped\n",
    "api.dataset_download_files(dataset=\"alexteboul/heart-disease-health-indicators-dataset\", unzip=True)\n",
    "\n",
    "# Saving DataSets into DF\n",
    "usa_df = pd.read_csv(\"heart_disease_health_indicators_BRFSS2015.csv\")\n",
    "india_df = pd.read_csv(\"./Data/CVD_india_data_raw.csv\")"
   ]
  },
  {
   "cell_type": "markdown",
   "metadata": {},
   "source": [
    "Scrape norm tables from Wikipedia"
   ]
  },
  {
   "cell_type": "code",
   "execution_count": 9,
   "metadata": {},
   "outputs": [
    {
     "ename": "NameError",
     "evalue": "name 'requests' is not defined",
     "output_type": "error",
     "traceback": [
      "\u001b[0;31m---------------------------------------------------------------------------\u001b[0m",
      "\u001b[0;31mNameError\u001b[0m                                 Traceback (most recent call last)",
      "Cell \u001b[0;32mIn[9], line 3\u001b[0m\n\u001b[1;32m      1\u001b[0m \u001b[38;5;66;03m# blood pressure\u001b[39;00m\n\u001b[1;32m      2\u001b[0m url \u001b[38;5;241m=\u001b[39m \u001b[38;5;124m\"\u001b[39m\u001b[38;5;124mhttps://en.wikipedia.org/wiki/Blood_pressure\u001b[39m\u001b[38;5;124m\"\u001b[39m\n\u001b[0;32m----> 3\u001b[0m response \u001b[38;5;241m=\u001b[39m \u001b[43mrequests\u001b[49m\u001b[38;5;241m.\u001b[39mget(url)\n\u001b[1;32m      4\u001b[0m soup \u001b[38;5;241m=\u001b[39m BeautifulSoup(response\u001b[38;5;241m.\u001b[39mcontent, \u001b[38;5;124m'\u001b[39m\u001b[38;5;124mhtml.parser\u001b[39m\u001b[38;5;124m'\u001b[39m)\n\u001b[1;32m      6\u001b[0m table \u001b[38;5;241m=\u001b[39m soup\u001b[38;5;241m.\u001b[39mfind(\u001b[38;5;124m\"\u001b[39m\u001b[38;5;124mtable\u001b[39m\u001b[38;5;124m\"\u001b[39m, class_\u001b[38;5;241m=\u001b[39m\u001b[38;5;124m\"\u001b[39m\u001b[38;5;124mwikitable\u001b[39m\u001b[38;5;124m\"\u001b[39m)\n",
      "\u001b[0;31mNameError\u001b[0m: name 'requests' is not defined"
     ]
    }
   ],
   "source": [
    "# blood pressure\n",
    "url = \"https://en.wikipedia.org/wiki/Blood_pressure\"\n",
    "response = requests.get(url)\n",
    "soup = BeautifulSoup(response.content, 'html.parser')\n",
    "\n",
    "table = soup.find(\"table\", class_=\"wikitable\")\n",
    "\n",
    "categories = []\n",
    "office_data = []\n",
    "relevant_data = False\n",
    "\n",
    "for row in table.find_all('tr'):\n",
    "    header_cells = row.find_all('th')\n",
    "    if header_cells and \"European Society of Cardiology\" in header_cells[0].get_text():\n",
    "        relevant_data = True\n",
    "        continue\n",
    "    if header_cells and \"European Society of Hypertension\" in header_cells[0].get_text():\n",
    "        relevant_data = False\n",
    "        break\n",
    "    if relevant_data:\n",
    "        data_cells = row.find_all('td')\n",
    "        if len(data_cells) > 1:  # Ensures we have enough columns\n",
    "            categories.append(data_cells[0].get_text(strip=True))\n",
    "            office_data.append(data_cells[1].get_text(strip=True))\n",
    "\n",
    "bp_df = pd.DataFrame({'Category': categories, 'Office': office_data})\n",
    "bp_thresh = int(bp_df[bp_df['Category'] == 'Non-elevated']['Office'].values[0].split(\"<\")[1])\n",
    "bp_thresh"
   ]
  },
  {
   "cell_type": "code",
   "execution_count": null,
   "metadata": {},
   "outputs": [],
   "source": [
    "# cholesterol\n",
    "url = \"https://en.wikipedia.org/wiki/Cholesterol\"\n",
    "response = requests.get(url)\n",
    "soup = BeautifulSoup(response.content, 'html.parser')\n",
    "\n",
    "table = soup.find(\"table\", class_=\"wikitable\")\n",
    "rows = table.find(\"tbody\").find_all('tr')\n",
    "\n",
    "chol_data = []\n",
    "selected_rows = [1, 2, 3, 4]\n",
    "\n",
    "for i in selected_rows:\n",
    "    if i == 1:\n",
    "        cell = rows[i].find('th').get_text(strip=True)\n",
    "    else:\n",
    "        cell = rows[i].find('td').get_text(strip=True)\n",
    "    chol_data.append(cell)\n",
    "\n",
    "chol_data\n",
    "chol_thresh = int(chol_data[1].strip(\"< \"))\n",
    "chol_thresh"
   ]
  },
  {
   "cell_type": "markdown",
   "metadata": {},
   "source": [
    "Creating new binary columns for blood pressure and cholesterol in India data which match the US data"
   ]
  },
  {
   "cell_type": "code",
   "execution_count": null,
   "metadata": {},
   "outputs": [],
   "source": [
    "india_df[\"HighBP\"] = india_df[\"restingBP\"].apply(lambda x: 1 if x >= bp_thresh else 0)\n",
    "print(india_df[\"HighBP\"].unique())\n",
    "\n",
    "india_df[\"HighChol\"] = india_df[\"serumcholestrol\"].apply(lambda x: 1 if x >= chol_thresh else 0)\n",
    "print(india_df[\"HighChol\"].unique())\n",
    "\n",
    "india_df.head()"
   ]
  },
  {
   "cell_type": "markdown",
   "metadata": {},
   "source": [
    "Clean Data"
   ]
  },
  {
   "cell_type": "code",
   "execution_count": 11,
   "metadata": {},
   "outputs": [],
   "source": [
    "# apply functions for cleaning check\n",
    "check_nan(india_df)\n",
    "check_unique(india_df)\n",
    "check_nan(usa_df)\n",
    "check_unique(usa_df)"
   ]
  },
  {
   "cell_type": "code",
   "execution_count": null,
   "metadata": {},
   "outputs": [],
   "source": [
    "# Synchronize matching columns\n",
    "usa_df.columns = usa_df.columns.str.lower()\n",
    "india_df.columns = india_df.columns.str.lower()"
   ]
  },
  {
   "cell_type": "code",
   "execution_count": null,
   "metadata": {},
   "outputs": [],
   "source": [
    "# Aligning Dtypes\n",
    "usa_df = usa_df.apply(lambda x:x.astype(int))\n",
    "india_df = india_df.apply(lambda x:x.astype(int, errors= \"ignore\"))"
   ]
  },
  {
   "cell_type": "code",
   "execution_count": null,
   "metadata": {},
   "outputs": [],
   "source": [
    "# Checking and konsolodate the columns\n",
    "# Renaming India columns\n",
    "india_df = india_df.rename(columns={\"target\":\"heartdiseaseorattack\"})\n",
    "# Renaming usa columns\n",
    "usa_df = usa_df.rename(columns={\"sex\":\"gender\"})"
   ]
  },
  {
   "cell_type": "code",
   "execution_count": null,
   "metadata": {},
   "outputs": [],
   "source": [
    "# assgning gender \n",
    "# sacrificing performance for readibility in this case int to object\n",
    "gender = {\n",
    "    1:\"m\",\n",
    "    0:\"f\"\n",
    "}\n",
    "india_df[\"gender\"] = india_df[\"gender\"].map(gender)  \n",
    "usa_df[\"gender\"] = usa_df[\"gender\"].map(gender)"
   ]
  },
  {
   "cell_type": "code",
   "execution_count": null,
   "metadata": {},
   "outputs": [],
   "source": [
    "# add country column to both dataframes\n",
    "india_df['country'] = 'india'\n",
    "usa_df['country'] = 'usa'"
   ]
  },
  {
   "cell_type": "code",
   "execution_count": 13,
   "metadata": {},
   "outputs": [],
   "source": [
    "# Concantenate the DataFrames\n",
    "merged = pd.concat([df_india, df_usa], axis=0, ignore_index=True)\n",
    "merged.head()"
   ]
  },
  {
   "cell_type": "code",
   "execution_count": null,
   "metadata": {},
   "outputs": [],
   "source": []
  },
  {
   "cell_type": "markdown",
   "metadata": {},
   "source": [
    "Preparing the Data Analysis"
   ]
  },
  {
   "cell_type": "code",
   "execution_count": 14,
   "metadata": {},
   "outputs": [],
   "source": [
    "# Defining Hypothesis and relevant Data"
   ]
  },
  {
   "cell_type": "code",
   "execution_count": null,
   "metadata": {},
   "outputs": [],
   "source": []
  },
  {
   "cell_type": "markdown",
   "metadata": {},
   "source": [
    "Visualizing the Data"
   ]
  },
  {
   "cell_type": "code",
   "execution_count": 16,
   "metadata": {},
   "outputs": [],
   "source": [
    "# Defining relevant Plots"
   ]
  },
  {
   "cell_type": "code",
   "execution_count": null,
   "metadata": {},
   "outputs": [],
   "source": []
  }
 ],
 "metadata": {
  "kernelspec": {
   "display_name": "Python 3 (ipykernel)",
   "language": "python",
   "name": "python3"
  },
  "language_info": {
   "codemirror_mode": {
    "name": "ipython",
    "version": 3
   },
   "file_extension": ".py",
   "mimetype": "text/x-python",
   "name": "python",
   "nbconvert_exporter": "python",
   "pygments_lexer": "ipython3",
   "version": "3.9.19"
  }
 },
 "nbformat": 4,
 "nbformat_minor": 4
}
